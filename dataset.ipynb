{
  "nbformat": 4,
  "nbformat_minor": 0,
  "metadata": {
    "colab": {
      "provenance": [],
      "authorship_tag": "ABX9TyMA/OoIMJaqG6/1KOiVSbG1",
      "include_colab_link": true
    },
    "kernelspec": {
      "name": "python3",
      "display_name": "Python 3"
    },
    "language_info": {
      "name": "python"
    }
  },
  "cells": [
    {
      "cell_type": "markdown",
      "metadata": {
        "id": "view-in-github",
        "colab_type": "text"
      },
      "source": [
        "<a href=\"https://colab.research.google.com/github/giovanni-lucarelli/distribution-shift/blob/main/dataset.ipynb\" target=\"_parent\"><img src=\"https://colab.research.google.com/assets/colab-badge.svg\" alt=\"Open In Colab\"/></a>"
      ]
    },
    {
      "cell_type": "markdown",
      "source": [
        "# Synthetic data: 2D\n",
        "\n",
        "## Multinormal distribution (non null corr)\n",
        "\n",
        "Importing the packages"
      ],
      "metadata": {
        "id": "tT4y-IwpafC0"
      }
    },
    {
      "cell_type": "code",
      "source": [
        "import numpy as np\n",
        "import pandas as pd\n",
        "from scipy.stats import multivariate_normal\n",
        "import pandas as pd\n",
        "import matplotlib.pyplot as plt\n",
        "import seaborn as sns"
      ],
      "metadata": {
        "id": "pRkrgAjUa-qn"
      },
      "execution_count": 66,
      "outputs": []
    },
    {
      "cell_type": "markdown",
      "source": [
        "seed for reproducibility"
      ],
      "metadata": {
        "id": "fIi7bulJbTKL"
      }
    },
    {
      "cell_type": "code",
      "source": [
        "np.random.seed(1)"
      ],
      "metadata": {
        "id": "WLKafxdYbVZn"
      },
      "execution_count": 67,
      "outputs": []
    },
    {
      "cell_type": "markdown",
      "source": [
        "data generation from a multinormal."
      ],
      "metadata": {
        "id": "ohCrad_xbgKf"
      }
    },
    {
      "cell_type": "code",
      "source": [
        "# Generate a 2x2 positive semidefinite symmetric matrix\n",
        "matrix_size = 2\n",
        "# Method 1: Using random orthogonal matrix\n",
        "A = np.random.rand(matrix_size, matrix_size)\n",
        "A = A * 10\n",
        "\n",
        "# Parameters for the multivariate normal distribution\n",
        "\n",
        "cov0 = np.dot(A, A.transpose())  # positive matrix decomposition\n",
        "mean0 = [10,20]\n",
        "\n",
        "# Number of samples\n",
        "N = 1000\n",
        "\n",
        "# Generate samples\n",
        "X = np.random.multivariate_normal(mean0, cov0, N)\n",
        "X"
      ],
      "metadata": {
        "id": "CP9er3tjbi1L",
        "outputId": "d5e49117-2800-48f8-b0c7-b89085c7ba61",
        "colab": {
          "base_uri": "https://localhost:8080/"
        }
      },
      "execution_count": 68,
      "outputs": [
        {
          "output_type": "execute_result",
          "data": {
            "text/plain": [
              "array([[14.86698314, 19.95109043],\n",
              "       [ 3.83067415, 14.51116653],\n",
              "       [-4.16337534, 14.25492106],\n",
              "       ...,\n",
              "       [ 5.74781424, 17.2244446 ],\n",
              "       [ 4.00270232, 20.15830383],\n",
              "       [ 5.82523373, 19.0087314 ]])"
            ]
          },
          "metadata": {},
          "execution_count": 68
        }
      ]
    },
    {
      "cell_type": "markdown",
      "source": [
        "define the relationship between X and Y: polinomial relationship + logistic transformation"
      ],
      "metadata": {
        "id": "UilfLWjYbpYc"
      }
    },
    {
      "cell_type": "code",
      "source": [
        "# Define the polynomial function (no interactions)\n",
        "def polynomial_features(X):\n",
        "    interaction_term = X[:, 0] * X[:, 1]  # Calcola il prodotto delle due feature\n",
        "    return np.column_stack([np.ones(len(X)), X, X**2, interaction_term]) # bias, linear, quadratic and interaction\n",
        "\n",
        "# Define the logistic (sigmoid) function\n",
        "def sigmoid(z):\n",
        "    return 1 / (1 + np.exp(-z))\n"
      ],
      "metadata": {
        "id": "yUrrpsDkbnuk"
      },
      "execution_count": 69,
      "outputs": []
    },
    {
      "cell_type": "markdown",
      "source": [
        "generate the y"
      ],
      "metadata": {
        "id": "uh0XxhJPeHPB"
      }
    },
    {
      "cell_type": "code",
      "source": [
        "weights = np.array([0.1, 0.2, -0.3, 0.4, -0.5, 0.6]) #6 weights: 1 for the bias + 2 linear + 2 quadratic + 1 interaction\n",
        "\n",
        "# Generate polynomial features\n",
        "X_poly = polynomial_features(X)\n",
        "\n",
        "# Compute the linear combination of features and weights\n",
        "z = np.dot(X_poly, weights)\n",
        "\n",
        "# Apply the sigmoid function to get probabilities\n",
        "probabilities = sigmoid(z)\n",
        "\n",
        "# Generate the target variable y based on the probabilities (0 or 1)\n",
        "y = np.random.binomial(1, probabilities)"
      ],
      "metadata": {
        "id": "2ZBNHiEzc4P5"
      },
      "execution_count": 70,
      "outputs": []
    },
    {
      "cell_type": "markdown",
      "source": [
        "build the dataframe"
      ],
      "metadata": {
        "id": "kHtp1ypjeIxK"
      }
    },
    {
      "cell_type": "code",
      "source": [
        "# Create a Pandas DataFrame for the generated data\n",
        "df = pd.DataFrame(X, columns=[f'feature_{i+1}' for i in range(matrix_size)])\n",
        "df['target'] = y\n",
        "\n",
        "print(df.head())\n",
        "print(df['target'].value_counts())"
      ],
      "metadata": {
        "id": "UTXeJT2eeFtN",
        "outputId": "fb45266e-13c0-43b7-f821-0024666e2d01",
        "colab": {
          "base_uri": "https://localhost:8080/"
        }
      },
      "execution_count": 71,
      "outputs": [
        {
          "output_type": "stream",
          "name": "stdout",
          "text": [
            "   feature_1  feature_2  target\n",
            "0  14.866983  19.951090       1\n",
            "1   3.830674  14.511167       0\n",
            "2  -4.163375  14.254921       0\n",
            "3   7.459221  18.798361       0\n",
            "4  -1.236098  13.234694       0\n",
            "target\n",
            "0    641\n",
            "1    359\n",
            "Name: count, dtype: int64\n"
          ]
        }
      ]
    },
    {
      "cell_type": "code",
      "source": [
        "df.describe()"
      ],
      "metadata": {
        "id": "zgrPWV44eaJ7",
        "outputId": "e7f11e2a-5224-4cb2-8a38-01ca5f82a132",
        "colab": {
          "base_uri": "https://localhost:8080/",
          "height": 300
        }
      },
      "execution_count": 72,
      "outputs": [
        {
          "output_type": "execute_result",
          "data": {
            "text/plain": [
              "         feature_1    feature_2       target\n",
              "count  1000.000000  1000.000000  1000.000000\n",
              "mean      9.668893    19.934338     0.359000\n",
              "std       8.371123     3.088680     0.479947\n",
              "min     -17.335980    10.228996     0.000000\n",
              "25%       4.066264    17.819025     0.000000\n",
              "50%       9.443126    19.959616     0.000000\n",
              "75%      15.285544    21.975577     1.000000\n",
              "max      35.167745    30.271915     1.000000"
            ],
            "text/html": [
              "\n",
              "  <div id=\"df-68701638-99fb-4d26-b8bc-dd0a5388af6d\" class=\"colab-df-container\">\n",
              "    <div>\n",
              "<style scoped>\n",
              "    .dataframe tbody tr th:only-of-type {\n",
              "        vertical-align: middle;\n",
              "    }\n",
              "\n",
              "    .dataframe tbody tr th {\n",
              "        vertical-align: top;\n",
              "    }\n",
              "\n",
              "    .dataframe thead th {\n",
              "        text-align: right;\n",
              "    }\n",
              "</style>\n",
              "<table border=\"1\" class=\"dataframe\">\n",
              "  <thead>\n",
              "    <tr style=\"text-align: right;\">\n",
              "      <th></th>\n",
              "      <th>feature_1</th>\n",
              "      <th>feature_2</th>\n",
              "      <th>target</th>\n",
              "    </tr>\n",
              "  </thead>\n",
              "  <tbody>\n",
              "    <tr>\n",
              "      <th>count</th>\n",
              "      <td>1000.000000</td>\n",
              "      <td>1000.000000</td>\n",
              "      <td>1000.000000</td>\n",
              "    </tr>\n",
              "    <tr>\n",
              "      <th>mean</th>\n",
              "      <td>9.668893</td>\n",
              "      <td>19.934338</td>\n",
              "      <td>0.359000</td>\n",
              "    </tr>\n",
              "    <tr>\n",
              "      <th>std</th>\n",
              "      <td>8.371123</td>\n",
              "      <td>3.088680</td>\n",
              "      <td>0.479947</td>\n",
              "    </tr>\n",
              "    <tr>\n",
              "      <th>min</th>\n",
              "      <td>-17.335980</td>\n",
              "      <td>10.228996</td>\n",
              "      <td>0.000000</td>\n",
              "    </tr>\n",
              "    <tr>\n",
              "      <th>25%</th>\n",
              "      <td>4.066264</td>\n",
              "      <td>17.819025</td>\n",
              "      <td>0.000000</td>\n",
              "    </tr>\n",
              "    <tr>\n",
              "      <th>50%</th>\n",
              "      <td>9.443126</td>\n",
              "      <td>19.959616</td>\n",
              "      <td>0.000000</td>\n",
              "    </tr>\n",
              "    <tr>\n",
              "      <th>75%</th>\n",
              "      <td>15.285544</td>\n",
              "      <td>21.975577</td>\n",
              "      <td>1.000000</td>\n",
              "    </tr>\n",
              "    <tr>\n",
              "      <th>max</th>\n",
              "      <td>35.167745</td>\n",
              "      <td>30.271915</td>\n",
              "      <td>1.000000</td>\n",
              "    </tr>\n",
              "  </tbody>\n",
              "</table>\n",
              "</div>\n",
              "    <div class=\"colab-df-buttons\">\n",
              "\n",
              "  <div class=\"colab-df-container\">\n",
              "    <button class=\"colab-df-convert\" onclick=\"convertToInteractive('df-68701638-99fb-4d26-b8bc-dd0a5388af6d')\"\n",
              "            title=\"Convert this dataframe to an interactive table.\"\n",
              "            style=\"display:none;\">\n",
              "\n",
              "  <svg xmlns=\"http://www.w3.org/2000/svg\" height=\"24px\" viewBox=\"0 -960 960 960\">\n",
              "    <path d=\"M120-120v-720h720v720H120Zm60-500h600v-160H180v160Zm220 220h160v-160H400v160Zm0 220h160v-160H400v160ZM180-400h160v-160H180v160Zm440 0h160v-160H620v160ZM180-180h160v-160H180v160Zm440 0h160v-160H620v160Z\"/>\n",
              "  </svg>\n",
              "    </button>\n",
              "\n",
              "  <style>\n",
              "    .colab-df-container {\n",
              "      display:flex;\n",
              "      gap: 12px;\n",
              "    }\n",
              "\n",
              "    .colab-df-convert {\n",
              "      background-color: #E8F0FE;\n",
              "      border: none;\n",
              "      border-radius: 50%;\n",
              "      cursor: pointer;\n",
              "      display: none;\n",
              "      fill: #1967D2;\n",
              "      height: 32px;\n",
              "      padding: 0 0 0 0;\n",
              "      width: 32px;\n",
              "    }\n",
              "\n",
              "    .colab-df-convert:hover {\n",
              "      background-color: #E2EBFA;\n",
              "      box-shadow: 0px 1px 2px rgba(60, 64, 67, 0.3), 0px 1px 3px 1px rgba(60, 64, 67, 0.15);\n",
              "      fill: #174EA6;\n",
              "    }\n",
              "\n",
              "    .colab-df-buttons div {\n",
              "      margin-bottom: 4px;\n",
              "    }\n",
              "\n",
              "    [theme=dark] .colab-df-convert {\n",
              "      background-color: #3B4455;\n",
              "      fill: #D2E3FC;\n",
              "    }\n",
              "\n",
              "    [theme=dark] .colab-df-convert:hover {\n",
              "      background-color: #434B5C;\n",
              "      box-shadow: 0px 1px 3px 1px rgba(0, 0, 0, 0.15);\n",
              "      filter: drop-shadow(0px 1px 2px rgba(0, 0, 0, 0.3));\n",
              "      fill: #FFFFFF;\n",
              "    }\n",
              "  </style>\n",
              "\n",
              "    <script>\n",
              "      const buttonEl =\n",
              "        document.querySelector('#df-68701638-99fb-4d26-b8bc-dd0a5388af6d button.colab-df-convert');\n",
              "      buttonEl.style.display =\n",
              "        google.colab.kernel.accessAllowed ? 'block' : 'none';\n",
              "\n",
              "      async function convertToInteractive(key) {\n",
              "        const element = document.querySelector('#df-68701638-99fb-4d26-b8bc-dd0a5388af6d');\n",
              "        const dataTable =\n",
              "          await google.colab.kernel.invokeFunction('convertToInteractive',\n",
              "                                                    [key], {});\n",
              "        if (!dataTable) return;\n",
              "\n",
              "        const docLinkHtml = 'Like what you see? Visit the ' +\n",
              "          '<a target=\"_blank\" href=https://colab.research.google.com/notebooks/data_table.ipynb>data table notebook</a>'\n",
              "          + ' to learn more about interactive tables.';\n",
              "        element.innerHTML = '';\n",
              "        dataTable['output_type'] = 'display_data';\n",
              "        await google.colab.output.renderOutput(dataTable, element);\n",
              "        const docLink = document.createElement('div');\n",
              "        docLink.innerHTML = docLinkHtml;\n",
              "        element.appendChild(docLink);\n",
              "      }\n",
              "    </script>\n",
              "  </div>\n",
              "\n",
              "\n",
              "<div id=\"df-f0bd0d8c-5249-4abb-9aca-9fa49221da0a\">\n",
              "  <button class=\"colab-df-quickchart\" onclick=\"quickchart('df-f0bd0d8c-5249-4abb-9aca-9fa49221da0a')\"\n",
              "            title=\"Suggest charts\"\n",
              "            style=\"display:none;\">\n",
              "\n",
              "<svg xmlns=\"http://www.w3.org/2000/svg\" height=\"24px\"viewBox=\"0 0 24 24\"\n",
              "     width=\"24px\">\n",
              "    <g>\n",
              "        <path d=\"M19 3H5c-1.1 0-2 .9-2 2v14c0 1.1.9 2 2 2h14c1.1 0 2-.9 2-2V5c0-1.1-.9-2-2-2zM9 17H7v-7h2v7zm4 0h-2V7h2v10zm4 0h-2v-4h2v4z\"/>\n",
              "    </g>\n",
              "</svg>\n",
              "  </button>\n",
              "\n",
              "<style>\n",
              "  .colab-df-quickchart {\n",
              "      --bg-color: #E8F0FE;\n",
              "      --fill-color: #1967D2;\n",
              "      --hover-bg-color: #E2EBFA;\n",
              "      --hover-fill-color: #174EA6;\n",
              "      --disabled-fill-color: #AAA;\n",
              "      --disabled-bg-color: #DDD;\n",
              "  }\n",
              "\n",
              "  [theme=dark] .colab-df-quickchart {\n",
              "      --bg-color: #3B4455;\n",
              "      --fill-color: #D2E3FC;\n",
              "      --hover-bg-color: #434B5C;\n",
              "      --hover-fill-color: #FFFFFF;\n",
              "      --disabled-bg-color: #3B4455;\n",
              "      --disabled-fill-color: #666;\n",
              "  }\n",
              "\n",
              "  .colab-df-quickchart {\n",
              "    background-color: var(--bg-color);\n",
              "    border: none;\n",
              "    border-radius: 50%;\n",
              "    cursor: pointer;\n",
              "    display: none;\n",
              "    fill: var(--fill-color);\n",
              "    height: 32px;\n",
              "    padding: 0;\n",
              "    width: 32px;\n",
              "  }\n",
              "\n",
              "  .colab-df-quickchart:hover {\n",
              "    background-color: var(--hover-bg-color);\n",
              "    box-shadow: 0 1px 2px rgba(60, 64, 67, 0.3), 0 1px 3px 1px rgba(60, 64, 67, 0.15);\n",
              "    fill: var(--button-hover-fill-color);\n",
              "  }\n",
              "\n",
              "  .colab-df-quickchart-complete:disabled,\n",
              "  .colab-df-quickchart-complete:disabled:hover {\n",
              "    background-color: var(--disabled-bg-color);\n",
              "    fill: var(--disabled-fill-color);\n",
              "    box-shadow: none;\n",
              "  }\n",
              "\n",
              "  .colab-df-spinner {\n",
              "    border: 2px solid var(--fill-color);\n",
              "    border-color: transparent;\n",
              "    border-bottom-color: var(--fill-color);\n",
              "    animation:\n",
              "      spin 1s steps(1) infinite;\n",
              "  }\n",
              "\n",
              "  @keyframes spin {\n",
              "    0% {\n",
              "      border-color: transparent;\n",
              "      border-bottom-color: var(--fill-color);\n",
              "      border-left-color: var(--fill-color);\n",
              "    }\n",
              "    20% {\n",
              "      border-color: transparent;\n",
              "      border-left-color: var(--fill-color);\n",
              "      border-top-color: var(--fill-color);\n",
              "    }\n",
              "    30% {\n",
              "      border-color: transparent;\n",
              "      border-left-color: var(--fill-color);\n",
              "      border-top-color: var(--fill-color);\n",
              "      border-right-color: var(--fill-color);\n",
              "    }\n",
              "    40% {\n",
              "      border-color: transparent;\n",
              "      border-right-color: var(--fill-color);\n",
              "      border-top-color: var(--fill-color);\n",
              "    }\n",
              "    60% {\n",
              "      border-color: transparent;\n",
              "      border-right-color: var(--fill-color);\n",
              "    }\n",
              "    80% {\n",
              "      border-color: transparent;\n",
              "      border-right-color: var(--fill-color);\n",
              "      border-bottom-color: var(--fill-color);\n",
              "    }\n",
              "    90% {\n",
              "      border-color: transparent;\n",
              "      border-bottom-color: var(--fill-color);\n",
              "    }\n",
              "  }\n",
              "</style>\n",
              "\n",
              "  <script>\n",
              "    async function quickchart(key) {\n",
              "      const quickchartButtonEl =\n",
              "        document.querySelector('#' + key + ' button');\n",
              "      quickchartButtonEl.disabled = true;  // To prevent multiple clicks.\n",
              "      quickchartButtonEl.classList.add('colab-df-spinner');\n",
              "      try {\n",
              "        const charts = await google.colab.kernel.invokeFunction(\n",
              "            'suggestCharts', [key], {});\n",
              "      } catch (error) {\n",
              "        console.error('Error during call to suggestCharts:', error);\n",
              "      }\n",
              "      quickchartButtonEl.classList.remove('colab-df-spinner');\n",
              "      quickchartButtonEl.classList.add('colab-df-quickchart-complete');\n",
              "    }\n",
              "    (() => {\n",
              "      let quickchartButtonEl =\n",
              "        document.querySelector('#df-f0bd0d8c-5249-4abb-9aca-9fa49221da0a button');\n",
              "      quickchartButtonEl.style.display =\n",
              "        google.colab.kernel.accessAllowed ? 'block' : 'none';\n",
              "    })();\n",
              "  </script>\n",
              "</div>\n",
              "\n",
              "    </div>\n",
              "  </div>\n"
            ],
            "application/vnd.google.colaboratory.intrinsic+json": {
              "type": "dataframe",
              "summary": "{\n  \"name\": \"df\",\n  \"rows\": 8,\n  \"fields\": [\n    {\n      \"column\": \"feature_1\",\n      \"properties\": {\n        \"dtype\": \"number\",\n        \"std\": 350.58131787300096,\n        \"min\": -17.33598027434523,\n        \"max\": 1000.0,\n        \"num_unique_values\": 8,\n        \"samples\": [\n          9.668892940110322,\n          9.443126206974648,\n          1000.0\n        ],\n        \"semantic_type\": \"\",\n        \"description\": \"\"\n      }\n    },\n    {\n      \"column\": \"feature_2\",\n      \"properties\": {\n        \"dtype\": \"number\",\n        \"std\": 347.4206063416028,\n        \"min\": 3.088680344235521,\n        \"max\": 1000.0,\n        \"num_unique_values\": 8,\n        \"samples\": [\n          19.93433836735381,\n          19.959616321123615,\n          1000.0\n        ],\n        \"semantic_type\": \"\",\n        \"description\": \"\"\n      }\n    },\n    {\n      \"column\": \"target\",\n      \"properties\": {\n        \"dtype\": \"number\",\n        \"std\": 353.4102462272163,\n        \"min\": 0.0,\n        \"max\": 1000.0,\n        \"num_unique_values\": 5,\n        \"samples\": [\n          0.359,\n          1.0,\n          0.4799472360055334\n        ],\n        \"semantic_type\": \"\",\n        \"description\": \"\"\n      }\n    }\n  ]\n}"
            }
          },
          "metadata": {},
          "execution_count": 72
        }
      ]
    },
    {
      "cell_type": "markdown",
      "source": [
        "## Mixture of two multinormal\n",
        "Building the second distribution"
      ],
      "metadata": {
        "id": "02SS_1t9e-RM"
      }
    },
    {
      "cell_type": "code",
      "source": [
        "# Generate a random orthogonal matrix\n",
        "from scipy.stats import ortho_group\n",
        "\n",
        "# Generate a random orthogonal matrix\n",
        "random_orthogonal_matrix = ortho_group.rvs(dim=2)\n",
        "\n",
        "# Rotate the positive definite matrix\n",
        "cov1 = np.dot(random_orthogonal_matrix, np.dot(cov0, random_orthogonal_matrix.T))\n",
        "\n",
        "mean1 = [x * 5 for x in mean0]\n"
      ],
      "metadata": {
        "id": "fOeBQqtbfKmF"
      },
      "execution_count": 73,
      "outputs": []
    },
    {
      "cell_type": "markdown",
      "source": [
        "random sample from the mixture"
      ],
      "metadata": {
        "id": "9wnY4QD_fjJ8"
      }
    },
    {
      "cell_type": "code",
      "source": [
        "# Mixing probability\n",
        "pi = 0.7  # Probability of drawing from the first distribution\n",
        "\n",
        "# Number of samples\n",
        "N = 1000\n",
        "\n",
        "# Generate samples\n",
        "samples = np.random.choice([0, 1], size=N, p=[pi, 1-pi]) #0 for the first distribution and 1 for the second distribution\n",
        "X = np.zeros((N,matrix_size))\n",
        "for i in range(N):\n",
        "  if samples[i] == 0:\n",
        "    X[i] = np.random.multivariate_normal(mean0, cov0)\n",
        "  else:\n",
        "    X[i] = np.random.multivariate_normal(mean1, cov1)"
      ],
      "metadata": {
        "id": "xdo_N3CJflcj"
      },
      "execution_count": 74,
      "outputs": []
    },
    {
      "cell_type": "code",
      "source": [
        "weights = np.array([0.1, 0.2, -0.3, 0.4, -0.5, 0.6]) #6 weights: 1 for the bias + 2 linear + 2 quadratic + 1 interaction\n",
        "\n",
        "# Generate polynomial features\n",
        "X_poly = polynomial_features(X)\n",
        "\n",
        "# Compute the linear combination of features and weights\n",
        "z = np.dot(X_poly, weights)\n",
        "\n",
        "# Apply the sigmoid function to get probabilities\n",
        "probabilities = sigmoid(z)\n",
        "\n",
        "# Generate the target variable y based on the probabilities (0 or 1)\n",
        "y = np.random.binomial(1, probabilities)\n",
        "\n",
        "# Create a Pandas DataFrame for the generated data\n",
        "df1 = pd.DataFrame(X, columns=[f'feature_{i+1}' for i in range(matrix_size)])\n",
        "df1['target'] = y\n",
        "\n",
        "print(df1.head())\n",
        "print(df1['target'].value_counts())"
      ],
      "metadata": {
        "id": "80EbdJ-9gN-r",
        "outputId": "0c7cc588-a06e-4fbd-fc3a-9d4d5e9d2ebc",
        "colab": {
          "base_uri": "https://localhost:8080/"
        }
      },
      "execution_count": 75,
      "outputs": [
        {
          "output_type": "stream",
          "name": "stdout",
          "text": [
            "   feature_1  feature_2  target\n",
            "0   7.255285  20.302100       0\n",
            "1   9.457898  18.473645       0\n",
            "2  45.318798  93.759114       0\n",
            "3   4.753057  21.030337       0\n",
            "4   9.727295  17.360757       0\n",
            "target\n",
            "0    745\n",
            "1    255\n",
            "Name: count, dtype: int64\n"
          ]
        },
        {
          "output_type": "stream",
          "name": "stderr",
          "text": [
            "<ipython-input-69-5f0545982282>:8: RuntimeWarning: overflow encountered in exp\n",
            "  return 1 / (1 + np.exp(-z))\n"
          ]
        }
      ]
    },
    {
      "source": [
        "# Create a scatter plot\n",
        "plt.figure(figsize=(8, 6))\n",
        "plt.scatter(df['feature_1'], df['feature_2'], label='Original', alpha=0.5) # Access columns by name\n",
        "plt.scatter(df1['feature_1'], df1['feature_2'], label='Shifted', alpha=0.5) # Access columns by name\n",
        "plt.xlabel('Feature x1')\n",
        "plt.ylabel('Feature x2')\n",
        "plt.title('Scatterplot of Features x1 and x2 for Two Multinormal Distributions')\n",
        "plt.legend()\n",
        "plt.grid(True)\n",
        "plt.show()"
      ],
      "cell_type": "code",
      "metadata": {
        "id": "u5yELg6MhO6I",
        "outputId": "05fbf629-317a-49f1-d437-db59491e1046",
        "colab": {
          "base_uri": "https://localhost:8080/",
          "height": 564
        }
      },
      "execution_count": 78,
      "outputs": [
        {
          "output_type": "display_data",
          "data": {
            "text/plain": [
              "<Figure size 800x600 with 1 Axes>"
            ],
            "image/png": "[encoded data removed]"
          },
          "metadata": {}
        }
      ]
    },
    {
      "cell_type": "code",
      "source": [
        "df.to_csv('original.csv', index=False)\n",
        "df1.to_csv('shift_07original.csv', index=False)"
      ],
      "metadata": {
        "id": "jji-6E1Igu5I"
      },
      "execution_count": 79,
      "outputs": []
    }
  ]
}