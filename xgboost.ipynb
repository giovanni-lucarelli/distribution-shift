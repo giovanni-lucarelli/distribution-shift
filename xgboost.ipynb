{
 "cells": [
  {
   "cell_type": "markdown",
   "metadata": {},
   "source": [
    "### **XGBoost**"
   ]
  },
  {
   "cell_type": "markdown",
   "metadata": {},
   "source": [
    "#### Imports"
   ]
  },
  {
   "cell_type": "code",
   "execution_count": 481,
   "metadata": {},
   "outputs": [],
   "source": [
    "import numpy as np\n",
    "import pandas as pd\n",
    "from sklearn.tree import DecisionTreeClassifier as DTC\n",
    "from sklearn.ensemble import GradientBoostingClassifier as GBC\n",
    "from sklearn.model_selection import GridSearchCV\n",
    "from sklearn.metrics import classification_report, roc_auc_score\n",
    "import xgboost as xgb\n",
    "#import matplotlib.pyplot as plt\n",
    "#import seaborn as sns"
   ]
  },
  {
   "cell_type": "markdown",
   "metadata": {},
   "source": [
    "#### Constants"
   ]
  },
  {
   "cell_type": "code",
   "execution_count": 482,
   "metadata": {},
   "outputs": [],
   "source": [
    "TRAIN_SET = \"df_mix0.0.csv\"\n",
    "TEST_SET = \"df_mix0.8.csv\""
   ]
  },
  {
   "cell_type": "markdown",
   "metadata": {},
   "source": [
    "#### Import data\n",
    "\n",
    "Import training set"
   ]
  },
  {
   "cell_type": "code",
   "execution_count": 483,
   "metadata": {},
   "outputs": [
    {
     "data": {
      "text/html": [
       "<div>\n",
       "<style scoped>\n",
       "    .dataframe tbody tr th:only-of-type {\n",
       "        vertical-align: middle;\n",
       "    }\n",
       "\n",
       "    .dataframe tbody tr th {\n",
       "        vertical-align: top;\n",
       "    }\n",
       "\n",
       "    .dataframe thead th {\n",
       "        text-align: right;\n",
       "    }\n",
       "</style>\n",
       "<table border=\"1\" class=\"dataframe\">\n",
       "  <thead>\n",
       "    <tr style=\"text-align: right;\">\n",
       "      <th></th>\n",
       "      <th>x</th>\n",
       "      <th>y</th>\n",
       "    </tr>\n",
       "  </thead>\n",
       "  <tbody>\n",
       "    <tr>\n",
       "      <th>0</th>\n",
       "      <td>0.080293</td>\n",
       "      <td>0.880037</td>\n",
       "    </tr>\n",
       "    <tr>\n",
       "      <th>1</th>\n",
       "      <td>1.471276</td>\n",
       "      <td>0.600937</td>\n",
       "    </tr>\n",
       "    <tr>\n",
       "      <th>2</th>\n",
       "      <td>-0.108788</td>\n",
       "      <td>0.723767</td>\n",
       "    </tr>\n",
       "    <tr>\n",
       "      <th>3</th>\n",
       "      <td>0.945246</td>\n",
       "      <td>0.616437</td>\n",
       "    </tr>\n",
       "    <tr>\n",
       "      <th>4</th>\n",
       "      <td>-0.573430</td>\n",
       "      <td>-1.358901</td>\n",
       "    </tr>\n",
       "  </tbody>\n",
       "</table>\n",
       "</div>"
      ],
      "text/plain": [
       "          x         y\n",
       "0  0.080293  0.880037\n",
       "1  1.471276  0.600937\n",
       "2 -0.108788  0.723767\n",
       "3  0.945246  0.616437\n",
       "4 -0.573430 -1.358901"
      ]
     },
     "execution_count": 483,
     "metadata": {},
     "output_type": "execute_result"
    }
   ],
   "source": [
    "train_set = pd.read_csv(TRAIN_SET)\n",
    "x_train = train_set.drop(['t','z'], axis=1)\n",
    "y_train = train_set['t']\n",
    "x_train.head()"
   ]
  },
  {
   "cell_type": "markdown",
   "metadata": {},
   "source": [
    "Import shifted test set"
   ]
  },
  {
   "cell_type": "code",
   "execution_count": 484,
   "metadata": {},
   "outputs": [
    {
     "data": {
      "text/html": [
       "<div>\n",
       "<style scoped>\n",
       "    .dataframe tbody tr th:only-of-type {\n",
       "        vertical-align: middle;\n",
       "    }\n",
       "\n",
       "    .dataframe tbody tr th {\n",
       "        vertical-align: top;\n",
       "    }\n",
       "\n",
       "    .dataframe thead th {\n",
       "        text-align: right;\n",
       "    }\n",
       "</style>\n",
       "<table border=\"1\" class=\"dataframe\">\n",
       "  <thead>\n",
       "    <tr style=\"text-align: right;\">\n",
       "      <th></th>\n",
       "      <th>x</th>\n",
       "      <th>y</th>\n",
       "    </tr>\n",
       "  </thead>\n",
       "  <tbody>\n",
       "    <tr>\n",
       "      <th>0</th>\n",
       "      <td>5.533062</td>\n",
       "      <td>-0.601499</td>\n",
       "    </tr>\n",
       "    <tr>\n",
       "      <th>1</th>\n",
       "      <td>4.089830</td>\n",
       "      <td>1.535552</td>\n",
       "    </tr>\n",
       "    <tr>\n",
       "      <th>2</th>\n",
       "      <td>3.843192</td>\n",
       "      <td>1.443486</td>\n",
       "    </tr>\n",
       "    <tr>\n",
       "      <th>3</th>\n",
       "      <td>4.697790</td>\n",
       "      <td>0.927367</td>\n",
       "    </tr>\n",
       "    <tr>\n",
       "      <th>4</th>\n",
       "      <td>6.115125</td>\n",
       "      <td>0.271682</td>\n",
       "    </tr>\n",
       "  </tbody>\n",
       "</table>\n",
       "</div>"
      ],
      "text/plain": [
       "          x         y\n",
       "0  5.533062 -0.601499\n",
       "1  4.089830  1.535552\n",
       "2  3.843192  1.443486\n",
       "3  4.697790  0.927367\n",
       "4  6.115125  0.271682"
      ]
     },
     "execution_count": 484,
     "metadata": {},
     "output_type": "execute_result"
    }
   ],
   "source": [
    "test_set = pd.read_csv(TEST_SET)\n",
    "x_test = test_set.drop(['t', 'z'], axis=1)\n",
    "y_test = test_set['t']\n",
    "x_test.head()"
   ]
  },
  {
   "cell_type": "markdown",
   "metadata": {},
   "source": [
    "Decision tree"
   ]
  },
  {
   "cell_type": "code",
   "execution_count": 485,
   "metadata": {},
   "outputs": [
    {
     "name": "stdout",
     "output_type": "stream",
     "text": [
      "0.831\n"
     ]
    }
   ],
   "source": [
    "model = DTC(max_depth=5)\n",
    "model.fit(x_train, y_train)\n",
    "print(model.score(x_train, y_train))"
   ]
  },
  {
   "cell_type": "code",
   "execution_count": 486,
   "metadata": {},
   "outputs": [
    {
     "name": "stdout",
     "output_type": "stream",
     "text": [
      "score: 0.33\n",
      "              precision    recall  f1-score   support\n",
      "\n",
      "           0       0.17      0.76      0.28       172\n",
      "           1       0.83      0.24      0.37       828\n",
      "\n",
      "    accuracy                           0.33      1000\n",
      "   macro avg       0.50      0.50      0.33      1000\n",
      "weighted avg       0.71      0.33      0.36      1000\n",
      "\n",
      "AUC: 0.5076185260083137\n"
     ]
    }
   ],
   "source": [
    "y_pred = model.predict(x_test)\n",
    "y_pred_proba = model.predict_proba(x_test)[:,1]\n",
    "\n",
    "print(\"score:\", model.score(x_test, y_test))\n",
    "print(classification_report(y_test, y_pred))\n",
    "print(\"AUC:\", roc_auc_score(y_test, y_pred_proba))"
   ]
  },
  {
   "cell_type": "markdown",
   "metadata": {},
   "source": [
    "Gradient boosting"
   ]
  },
  {
   "cell_type": "code",
   "execution_count": 487,
   "metadata": {},
   "outputs": [
    {
     "name": "stdout",
     "output_type": "stream",
     "text": [
      "score: 0.863\n"
     ]
    }
   ],
   "source": [
    "model = GBC(learning_rate=0.025, max_depth=5, n_estimators=100, subsample=0.7)\n",
    "model.fit(x_train, y_train)\n",
    "print(\"score:\", model.score(x_train, y_train))"
   ]
  },
  {
   "cell_type": "code",
   "execution_count": 488,
   "metadata": {},
   "outputs": [
    {
     "name": "stdout",
     "output_type": "stream",
     "text": [
      "score: 0.457\n",
      "              precision    recall  f1-score   support\n",
      "\n",
      "           0       0.17      0.55      0.26       172\n",
      "           1       0.82      0.44      0.57       828\n",
      "\n",
      "    accuracy                           0.46      1000\n",
      "   macro avg       0.50      0.49      0.42      1000\n",
      "weighted avg       0.71      0.46      0.52      1000\n",
      "\n",
      "AUC: 0.5037250028086732\n"
     ]
    }
   ],
   "source": [
    "y_pred = model.predict(x_test)\n",
    "y_pred_proba = model.predict_proba(x_test)[:,1]\n",
    "\n",
    "print(\"score:\", model.score(x_test, y_test))\n",
    "print(classification_report(y_test, y_pred))\n",
    "print(\"AUC:\", roc_auc_score(y_test, y_pred_proba))"
   ]
  },
  {
   "cell_type": "code",
   "execution_count": 489,
   "metadata": {},
   "outputs": [
    {
     "name": "stdout",
     "output_type": "stream",
     "text": [
      "score: 0.828\n"
     ]
    }
   ],
   "source": [
    "model = xgb.XGBClassifier(learning_rate=0.025, max_depth=5, n_estimators=100, subsample=0.7)\n",
    "model.fit(x_train, y_train)\n",
    "print(\"score:\", model.score(x_train, y_train))"
   ]
  },
  {
   "cell_type": "code",
   "execution_count": 490,
   "metadata": {},
   "outputs": [
    {
     "name": "stdout",
     "output_type": "stream",
     "text": [
      "score: 0.797\n",
      "              precision    recall  f1-score   support\n",
      "\n",
      "           0       0.20      0.06      0.09       172\n",
      "           1       0.83      0.95      0.89       828\n",
      "\n",
      "    accuracy                           0.80      1000\n",
      "   macro avg       0.51      0.50      0.49      1000\n",
      "weighted avg       0.72      0.80      0.75      1000\n",
      "\n",
      "AUC: 0.5096372598584429\n"
     ]
    }
   ],
   "source": [
    "y_pred = model.predict(x_test)\n",
    "y_pred_proba = model.predict_proba(x_test)[:,1]\n",
    "\n",
    "print(\"score:\", model.score(x_test, y_test))\n",
    "print(classification_report(y_test, y_pred))\n",
    "print(\"AUC:\", roc_auc_score(y_test, y_pred_proba))"
   ]
  },
  {
   "cell_type": "markdown",
   "metadata": {},
   "source": [
    "Grid search over parameters"
   ]
  },
  {
   "cell_type": "code",
   "execution_count": 491,
   "metadata": {},
   "outputs": [],
   "source": [
    "from sklearn.ensemble import GradientBoostingClassifier\n",
    "from sklearn.model_selection import GridSearchCV\n",
    "from sklearn.metrics import roc_auc_score, classification_report\n",
    "\n",
    "param_grid = {\n",
    "    'n_estimators': [100, 200, 300],\n",
    "    'max_depth': [4, 5, 6],\n",
    "    'min_samples_split': [2, 3, 4],\n",
    "    'min_samples_leaf': [2, 3, 4],\n",
    "    'max_features': [None, 'sqrt', 'log2'],\n",
    "    'learning_rate': [0.025, 0.05, 0.075],\n",
    "    'subsample': [0.6, 0.7, 0.8]\n",
    "}\n",
    "\n",
    "def grid_search(x_train, y_train, x_test, y_test):\n",
    "    model = GradientBoostingClassifier()\n",
    "    grid = GridSearchCV(\n",
    "        estimator=model,\n",
    "        param_grid=param_grid,\n",
    "        scoring='roc_auc',\n",
    "        cv=5,\n",
    "        n_jobs=-1,\n",
    "        verbose=1\n",
    "    )\n",
    "\n",
    "    grid.fit(x_train, y_train)\n",
    "\n",
    "    best_params = grid.best_params_\n",
    "    best_cv_score = grid.best_score_\n",
    "\n",
    "    print(\"Migliori parametri basati sulla cross-validation:\", best_params)\n",
    "    print(\"Miglior punteggio di CV:\", best_cv_score)\n",
    "\n",
    "    final_model = GBC(**best_params)\n",
    "    final_model.fit(x_train, y_train)\n",
    "\n",
    "    y_pred = final_model.predict(x_test)\n",
    "    y_pred_proba = final_model.predict_proba(x_test)[:, 1]\n",
    "\n",
    "    test_score = final_model.score(x_test, y_test)\n",
    "    test_auc = roc_auc_score(y_test, y_pred_proba)\n",
    "\n",
    "    print(\"Punteggio sul set di test:\", test_score)\n",
    "    print(\"AUC sul set di test:\", test_auc)\n",
    "    print(\"Classification Report:\\n\", classification_report(y_test, y_pred))\n",
    "\n",
    "    return final_model\n",
    "\n",
    "# Esempio di utilizzo\n",
    "#final_model = grid_search(x_train, y_train, x_test, y_test)"
   ]
  }
 ],
 "metadata": {
  "kernelspec": {
   "display_name": "myenv",
   "language": "python",
   "name": "python3"
  },
  "language_info": {
   "codemirror_mode": {
    "name": "ipython",
    "version": 3
   },
   "file_extension": ".py",
   "mimetype": "text/x-python",
   "name": "python",
   "nbconvert_exporter": "python",
   "pygments_lexer": "ipython3",
   "version": "3.13.1"
  }
 },
 "nbformat": 4,
 "nbformat_minor": 2
}
